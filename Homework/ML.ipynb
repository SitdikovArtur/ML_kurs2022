{
  "nbformat": 4,
  "nbformat_minor": 0,
  "metadata": {
    "colab": {
      "provenance": []
    },
    "kernelspec": {
      "name": "python3",
      "display_name": "Python 3"
    },
    "language_info": {
      "name": "python"
    },
    "gpuClass": "standard"
  },
  "cells": [
    {
      "cell_type": "markdown",
      "source": [
        "**Условие задачи**\n",
        "\n",
        "На основании данных о пассажирах, которые воспользовались метро дважды за сутки, при наличии информации о первом заходе в метро, необходимо предсказать, на какой станции и через какой промежуток времени, этот пассажир воспользуется метро повторно. \n",
        "\n",
        "\n",
        "---\n",
        "\n",
        "\n",
        "**Входные данные**\n",
        "\n",
        "В данных присутствуют только те люди, которые совершили ровно две поездки в день, при этом статистика валидаций взята за несколько дней. \n",
        "\n",
        "**Описание столбцов**\n",
        "\n",
        "*    id - уникальный идентификатор столбца; \n",
        "*   ticket_id - уникальный идентификатор билета, считается, что у одного билета один владелец\n",
        "*   ticket_type_nm - тип билета \n",
        "*   entrance_id - уникальный id входа в станцию\n",
        "*   entrance_nm - название\n",
        "*   station_id - уникальное id станции захода \n",
        "*   station_nm - наименование станции захода \n",
        "*   line_id - уникальный id ветки на, которой находится станция\n",
        "*   line_nm - наименование ветки, на которой находится станция \n",
        "*   pass_dttm - дата валидации \n",
        "*    time_to_under (столбец для предсказания) - сколько времени прошло между первой и второй валидацией\n",
        "*   label (столбец для предсказания) - id второй станции, на которой\n",
        "произошла валидация "
      ],
      "metadata": {
        "id": "MBg3WTko3bWV"
      }
    },
    {
      "cell_type": "code",
      "execution_count": 3,
      "metadata": {
        "id": "nsShnMg73N5O"
      },
      "outputs": [],
      "source": [
        "# Импорт библиотек\n",
        "import pandas as pd\n",
        "import numpy as np\n",
        "import matplotlib.pyplot as plt\n",
        "from matplotlib.ticker import FormatStrFormatter"
      ]
    },
    {
      "cell_type": "markdown",
      "source": [
        "**Датасет**"
      ],
      "metadata": {
        "id": "SkNMNiN85nX4"
      }
    },
    {
      "cell_type": "markdown",
      "source": [
        "Подгружаем датасет"
      ],
      "metadata": {
        "id": "2X0gl6SSVBj4"
      }
    },
    {
      "cell_type": "code",
      "source": [
        "ds = pd.read_csv('/content/train_dataset_train.csv', sep = ',')"
      ],
      "metadata": {
        "id": "0-dAQ_8iRdWS"
      },
      "execution_count": 4,
      "outputs": []
    },
    {
      "cell_type": "markdown",
      "source": [
        "Хотим определить количество уникальных значений для каждой характеристики, а также тип данных для каждой из колонок"
      ],
      "metadata": {
        "id": "rQ6gNfvIZbtc"
      }
    },
    {
      "cell_type": "code",
      "source": [
        "col = ds.columns\n",
        "for item in col:\n",
        "    print(f\"Характеристика: {item}\")\n",
        "    print(f\"Количество уникальных значений: {ds[item].nunique()}\")\n",
        "    print(f\"{ds[item]}\")\n",
        "    print('--------------------------------------------')"
      ],
      "metadata": {
        "colab": {
          "base_uri": "https://localhost:8080/"
        },
        "id": "zNYVkrNAVSXa",
        "outputId": "42a6d452-465b-406f-872a-6d9307ea04d2"
      },
      "execution_count": 5,
      "outputs": [
        {
          "output_type": "stream",
          "name": "stdout",
          "text": [
            "Характеристика: id\n",
            "Количество уникальных значений: 1091021\n",
            "0                1\n",
            "1                2\n",
            "2                3\n",
            "3                4\n",
            "4                5\n",
            "            ...   \n",
            "1091016    1091017\n",
            "1091017    1091018\n",
            "1091018    1091019\n",
            "1091019    1091020\n",
            "1091020    1091021\n",
            "Name: id, Length: 1091021, dtype: int64\n",
            "--------------------------------------------\n",
            "Характеристика: ticket_id\n",
            "Количество уникальных значений: 335533\n",
            "0          40BD89EC85646EFB69E283F39C298E60\n",
            "1          126727A96489CC976A8C08E5CEB00542\n",
            "2          D28CE6A9E0E5B6D213470A97CFF32485\n",
            "3          015DA44B523C062B5BFEFF3FB0E64B9E\n",
            "4          95B19C6F3A504727AC3EA56EB7E3E80F\n",
            "                         ...               \n",
            "1091016    6A738232F8E43DFCD4027FDC0EA6CC03\n",
            "1091017    141174B366F14A8703903813A49374DB\n",
            "1091018    E38493B30A7C55170806F187AF5EEA15\n",
            "1091019    3DF2B6366631ECA06274DD2CB5B0DF24\n",
            "1091020    80DA097A0BBFD91F5B15697AD53F8D3B\n",
            "Name: ticket_id, Length: 1091021, dtype: object\n",
            "--------------------------------------------\n",
            "Характеристика: ticket_type_nm\n",
            "Количество уникальных значений: 60\n",
            "0                  Пропуск FacePay\n",
            "1             СК учащегося 30 дней\n",
            "2          БСК дружинника г.Москвы\n",
            "3                          30 дней\n",
            "4                          КОШЕЛЕК\n",
            "                    ...           \n",
            "1091016            Пропуск FacePay\n",
            "1091017            Пропуск FacePay\n",
            "1091018            Пропуск FacePay\n",
            "1091019            Пропуск FacePay\n",
            "1091020            Пропуск FacePay\n",
            "Name: ticket_type_nm, Length: 1091021, dtype: object\n",
            "--------------------------------------------\n",
            "Характеристика: entrance_id\n",
            "Количество уникальных значений: 426\n",
            "0          2402\n",
            "1           110\n",
            "2           110\n",
            "3           110\n",
            "4           110\n",
            "           ... \n",
            "1091016    2283\n",
            "1091017     278\n",
            "1091018     118\n",
            "1091019    2452\n",
            "1091020     320\n",
            "Name: entrance_id, Length: 1091021, dtype: int64\n",
            "--------------------------------------------\n",
            "Характеристика: entrance_nm\n",
            "Количество уникальных значений: 426\n",
            "0                   Лефортово БКЛ\n",
            "1            Войковская ( Южный )\n",
            "2            Войковская ( Южный )\n",
            "3            Войковская ( Южный )\n",
            "4            Войковская ( Южный )\n",
            "                    ...          \n",
            "1091016    Нижегородская (второй)\n",
            "1091017      Калужская (Северный)\n",
            "1091018     Каширская (Северный )\n",
            "1091019     Воронцовская (Первый)\n",
            "1091020                Пушкинская\n",
            "Name: entrance_nm, Length: 1091021, dtype: object\n",
            "--------------------------------------------\n",
            "Характеристика: station_id\n",
            "Количество уникальных значений: 276\n",
            "0          11007\n",
            "1           2006\n",
            "2           2006\n",
            "3           2006\n",
            "4           2006\n",
            "           ...  \n",
            "1091016    15005\n",
            "1091017     6007\n",
            "1091018     2010\n",
            "1091019    11014\n",
            "1091020     7015\n",
            "Name: station_id, Length: 1091021, dtype: int64\n",
            "--------------------------------------------\n",
            "Характеристика: station_nm\n",
            "Количество уникальных значений: 245\n",
            "0              Лефортово\n",
            "1             Войковская\n",
            "2             Войковская\n",
            "3             Войковская\n",
            "4             Войковская\n",
            "               ...      \n",
            "1091016    Нижегородская\n",
            "1091017        Калужская\n",
            "1091018        Каширская\n",
            "1091019     Воронцовская\n",
            "1091020       Пушкинская\n",
            "Name: station_nm, Length: 1091021, dtype: object\n",
            "--------------------------------------------\n",
            "Характеристика: line_id\n",
            "Количество уникальных значений: 16\n",
            "0          11\n",
            "1           2\n",
            "2           2\n",
            "3           2\n",
            "4           2\n",
            "           ..\n",
            "1091016    15\n",
            "1091017     6\n",
            "1091018     2\n",
            "1091019    11\n",
            "1091020     7\n",
            "Name: line_id, Length: 1091021, dtype: int64\n",
            "--------------------------------------------\n",
            "Характеристика: line_nm\n",
            "Количество уникальных значений: 16\n",
            "0                   Большая кольцевая\n",
            "1                      Замоскворецкая\n",
            "2                      Замоскворецкая\n",
            "3                      Замоскворецкая\n",
            "4                      Замоскворецкая\n",
            "                      ...            \n",
            "1091016                  Некрасовская\n",
            "1091017              Калужско-Рижская\n",
            "1091018                Замоскворецкая\n",
            "1091019             Большая кольцевая\n",
            "1091020    Таганско-Краснопресненская\n",
            "Name: line_nm, Length: 1091021, dtype: object\n",
            "--------------------------------------------\n",
            "Характеристика: pass_dttm\n",
            "Количество уникальных значений: 297040\n",
            "0          2022-09-12 05:00:13\n",
            "1          2022-09-12 05:00:54\n",
            "2          2022-09-12 05:00:55\n",
            "3          2022-09-12 05:01:13\n",
            "4          2022-09-12 05:02:55\n",
            "                  ...         \n",
            "1091016    2022-09-19 02:54:50\n",
            "1091017    2022-09-19 03:06:02\n",
            "1091018    2022-09-19 03:17:00\n",
            "1091019    2022-09-19 03:23:30\n",
            "1091020    2022-09-19 04:10:42\n",
            "Name: pass_dttm, Length: 1091021, dtype: object\n",
            "--------------------------------------------\n",
            "Характеристика: time_to_under\n",
            "Количество уникальных значений: 60514\n",
            "0           216.316667\n",
            "1           648.183333\n",
            "2           865.333333\n",
            "3          1048.233333\n",
            "4           965.600000\n",
            "              ...     \n",
            "1091016     124.750000\n",
            "1091017      56.066667\n",
            "1091018      91.283333\n",
            "1091019      47.900000\n",
            "1091020      34.100000\n",
            "Name: time_to_under, Length: 1091021, dtype: float64\n",
            "--------------------------------------------\n",
            "Характеристика: label\n",
            "Количество уникальных значений: 276\n",
            "0           8001\n",
            "1           9011\n",
            "2           7022\n",
            "3           2022\n",
            "4           2017\n",
            "           ...  \n",
            "1091016    15005\n",
            "1091017     6007\n",
            "1091018     2010\n",
            "1091019    11014\n",
            "1091020     7015\n",
            "Name: label, Length: 1091021, dtype: int64\n",
            "--------------------------------------------\n"
          ]
        }
      ]
    },
    {
      "cell_type": "markdown",
      "source": [
        "Определимся с категориальными признаками на основе данных выше и уберем ненужные столбцы (признаки)\n",
        "Убираем столбцы, дублирующие информацию (ticket_id, entrance_id, line_id, station_id)\n",
        "Также убираем entrance_nm, так как информация, лежащая в ней, уже содержится в station_nm\n",
        "Убираем id, так как столбец не несет никакой информации"
      ],
      "metadata": {
        "id": "L4v-w_anovKP"
      }
    },
    {
      "cell_type": "code",
      "source": [
        "ds = ds.drop(['id', 'ticket_id', 'entrance_id', 'entrance_nm', 'line_id', 'station_id'], axis = 1)"
      ],
      "metadata": {
        "id": "vrcOPpB7repO"
      },
      "execution_count": 6,
      "outputs": []
    },
    {
      "cell_type": "markdown",
      "source": [
        "На основе кода выше можем сказать, какие признаки ялвяются категориальнымии задим им тип category"
      ],
      "metadata": {
        "id": "fWM25WgxZwn0"
      }
    },
    {
      "cell_type": "code",
      "source": [
        "ds.ticket_type_nm = pd.Series(ds.ticket_type_nm, dtype='category')\n",
        "ds.line_nm = pd.Series(ds.line_nm, dtype='category')\n",
        "ds.station_nm = pd.Series(ds.station_nm, dtype='category')"
      ],
      "metadata": {
        "id": "mahuygQCo0pc"
      },
      "execution_count": 7,
      "outputs": []
    },
    {
      "cell_type": "markdown",
      "source": [
        "**Data Cleaning**"
      ],
      "metadata": {
        "id": "E1I2DjW0g_LS"
      }
    },
    {
      "cell_type": "markdown",
      "source": [
        "Найдем процент непустых объектов"
      ],
      "metadata": {
        "id": "uwz3lQF8jBeQ"
      }
    },
    {
      "cell_type": "code",
      "source": [
        "values = ((ds.isna().sum() / len(ds)) * 100).sort_values()\n",
        "count = 0\n",
        "\n",
        "for i in values:\n",
        "  if i == 0:\n",
        "    count += 1\n",
        "\n",
        "print(f'Количество полностью заполненных объектов - {count}')\n",
        "print(f'Их процент из всей выборки - {int(count / len (values) * 100)}%')"
      ],
      "metadata": {
        "colab": {
          "base_uri": "https://localhost:8080/"
        },
        "id": "SbJw35iOYo27",
        "outputId": "dd7f0e87-e76e-4db0-a37a-8625799b4be8"
      },
      "execution_count": 8,
      "outputs": [
        {
          "output_type": "stream",
          "name": "stdout",
          "text": [
            "Количество полностью заполненных объектов - 6\n",
            "Их процент из всей выборки - 100%\n"
          ]
        }
      ]
    },
    {
      "cell_type": "markdown",
      "source": [
        "Все столбцы заполнены полностью, пропусков нет."
      ],
      "metadata": {
        "id": "F2nUTDR4rV2a"
      }
    },
    {
      "cell_type": "markdown",
      "source": [
        "Обработка выбросов"
      ],
      "metadata": {
        "id": "sfufz5acsOsO"
      }
    },
    {
      "cell_type": "code",
      "source": [
        "ds.time_to_under.describe()"
      ],
      "metadata": {
        "colab": {
          "base_uri": "https://localhost:8080/"
        },
        "id": "sRdwc82RrTMg",
        "outputId": "c87c8b09-1c32-415f-ae02-4eb8cb452fa9"
      },
      "execution_count": 9,
      "outputs": [
        {
          "output_type": "execute_result",
          "data": {
            "text/plain": [
              "count    1.091021e+06\n",
              "mean     5.104668e+02\n",
              "std      2.328452e+02\n",
              "min      3.001667e+01\n",
              "25%      3.229500e+02\n",
              "50%      5.686833e+02\n",
              "75%      6.838833e+02\n",
              "max      1.437417e+03\n",
              "Name: time_to_under, dtype: float64"
            ]
          },
          "metadata": {},
          "execution_count": 9
        }
      ]
    },
    {
      "cell_type": "markdown",
      "source": [
        "Видим разброс в 2 порядка между минимальным и максимальным значениями времени между 2мя валидациями. Считаем их за выбросы\n",
        "\n",
        "Выведем границы для нормальных значений времени между валидациями, используя интерквартильный размах. Посмотрим, входят ли минимальное и максимальное значения в интервал между полученными границами"
      ],
      "metadata": {
        "id": "pl3nt18vzYn_"
      }
    },
    {
      "cell_type": "code",
      "source": [
        "def calculate_outliers(data):\n",
        "    q25 = data.quantile(0.25)\n",
        "    q75 = data.quantile(0.75)\n",
        "    iqr = q75 - q25\n",
        "    boundaries = (q25 - 1.5 * iqr, q75 + 1.5 * iqr)\n",
        "    \n",
        "    return boundaries"
      ],
      "metadata": {
        "id": "3uwochy7zDR3"
      },
      "execution_count": 10,
      "outputs": []
    },
    {
      "cell_type": "code",
      "source": [
        "boundaries = calculate_outliers(ds.time_to_under)\n",
        "boundaries"
      ],
      "metadata": {
        "colab": {
          "base_uri": "https://localhost:8080/"
        },
        "id": "4zARN-q3zg3I",
        "outputId": "b1ca06a0-4fca-40c3-ddc2-6afa552f3769"
      },
      "execution_count": 11,
      "outputs": [
        {
          "output_type": "execute_result",
          "data": {
            "text/plain": [
              "(-218.45, 1225.2833333333333)"
            ]
          },
          "metadata": {},
          "execution_count": 11
        }
      ]
    },
    {
      "cell_type": "code",
      "source": [
        "if ds.time_to_under.max() < boundaries[1]:\n",
        "    print('максимум входит в границы')\n",
        "else:\n",
        "    print('максимум не входит в границы')\n",
        "    \n",
        "if ds.time_to_under.min() > boundaries[0]:\n",
        "    print('минимум входит в границы')\n",
        "else:\n",
        "    print('минимум не входит в границы')"
      ],
      "metadata": {
        "colab": {
          "base_uri": "https://localhost:8080/"
        },
        "id": "s7KvN28EziyB",
        "outputId": "670df277-2039-4558-8426-d1acc35fa499"
      },
      "execution_count": 12,
      "outputs": [
        {
          "output_type": "stream",
          "name": "stdout",
          "text": [
            "максимум не входит в границы\n",
            "минимум входит в границы\n"
          ]
        }
      ]
    },
    {
      "cell_type": "markdown",
      "source": [
        "Посчитаем количество выбросов"
      ],
      "metadata": {
        "id": "1oN0IuCg0EqV"
      }
    },
    {
      "cell_type": "code",
      "source": [
        "is_outlier = (ds.time_to_under < boundaries[0]) | (ds.time_to_under > boundaries[1]) \n",
        "is_outlier.sum()"
      ],
      "metadata": {
        "colab": {
          "base_uri": "https://localhost:8080/"
        },
        "id": "dbYB5u-p0BqC",
        "outputId": "f0a71729-235c-46c5-ebfe-4ae133ffc54b"
      },
      "execution_count": 13,
      "outputs": [
        {
          "output_type": "execute_result",
          "data": {
            "text/plain": [
              "855"
            ]
          },
          "metadata": {},
          "execution_count": 13
        }
      ]
    },
    {
      "cell_type": "markdown",
      "source": [
        "Какая это доля от всей выборки"
      ],
      "metadata": {
        "id": "6X_OQQWS0UuG"
      }
    },
    {
      "cell_type": "code",
      "source": [
        "is_outlier.sum() / len(ds.time_to_under)"
      ],
      "metadata": {
        "colab": {
          "base_uri": "https://localhost:8080/"
        },
        "id": "aGSnweBT0SJF",
        "outputId": "341fcf15-037a-41c5-f78c-9361826417ec"
      },
      "execution_count": 14,
      "outputs": [
        {
          "output_type": "execute_result",
          "data": {
            "text/plain": [
              "0.0007836696085593219"
            ]
          },
          "metadata": {},
          "execution_count": 14
        }
      ]
    },
    {
      "cell_type": "markdown",
      "source": [
        "Видим, что доля выбросов меньше 0,1% от всей выборки, поэтому просто уберем выбросы из датасета"
      ],
      "metadata": {
        "id": "_YlzqdwM0oqf"
      }
    },
    {
      "cell_type": "code",
      "source": [
        "ds = ds.loc[ds['time_to_under'] <= boundaries[1]]\n",
        "print(ds.shape)"
      ],
      "metadata": {
        "colab": {
          "base_uri": "https://localhost:8080/"
        },
        "id": "I_3tEA8X0jVc",
        "outputId": "fd037f35-3c97-4c97-ca21-fc35616cd76d"
      },
      "execution_count": 15,
      "outputs": [
        {
          "output_type": "stream",
          "name": "stdout",
          "text": [
            "(1090166, 6)\n"
          ]
        }
      ]
    },
    {
      "cell_type": "markdown",
      "source": [
        "**Data Visualization**\n",
        "\n",
        "Построим гистограмму распределения времени между двумя последующими валидациями"
      ],
      "metadata": {
        "id": "z-ZkGNHF39Xl"
      }
    },
    {
      "cell_type": "code",
      "source": [
        "plt.figure(figsize=(8,5))\n",
        "plt.hist(ds.time_to_under, bins=15, color='red')\n",
        "plt.xlabel('Time')\n",
        "plt.ylabel('Частота')"
      ],
      "metadata": {
        "colab": {
          "base_uri": "https://localhost:8080/",
          "height": 351
        },
        "id": "pPLP9cXv3Q6t",
        "outputId": "6605f869-f6a1-42d8-e962-72111a81a569"
      },
      "execution_count": 16,
      "outputs": [
        {
          "output_type": "execute_result",
          "data": {
            "text/plain": [
              "Text(0, 0.5, 'Частота')"
            ]
          },
          "metadata": {},
          "execution_count": 16
        },
        {
          "output_type": "display_data",
          "data": {
            "text/plain": [
              "<Figure size 576x360 with 1 Axes>"
            ],
            "image/png": "[encoded data removed]"
          },
          "metadata": {
            "needs_background": "light"
          }
        }
      ]
    },
    {
      "cell_type": "markdown",
      "source": [
        "**Временной признак**"
      ],
      "metadata": {
        "id": "fHTUix70sU4y"
      }
    },
    {
      "cell_type": "markdown",
      "source": [
        "Разберемся со столбцом с временным типом данных. В нашем случае нам интересны день недели и час. Нам не интересно знать какой год и месяц (так как в выборке даны данные за 7 дней), также не интересны секунды и минуты"
      ],
      "metadata": {
        "id": "RRkKQXcjrO-k"
      }
    },
    {
      "cell_type": "code",
      "source": [
        "ds.pass_dttm = pd.to_datetime(ds.pass_dttm)\n",
        "ds['hour'] = ds.pass_dttm.apply(lambda x: x.hour)\n",
        "ds['dayofweek'] = ds.pass_dttm.dt.weekday\n",
        "ds = ds.drop(['pass_dttm'], axis = 1)"
      ],
      "metadata": {
        "id": "69KVVhmWs6mY"
      },
      "execution_count": 17,
      "outputs": []
    },
    {
      "cell_type": "markdown",
      "source": [
        "**Data Visualization**\n",
        "\n",
        "Построим зависимость времени между двумя последующими валидациями от часа и от дня недели"
      ],
      "metadata": {
        "id": "2wHovlNOafIw"
      }
    },
    {
      "cell_type": "code",
      "source": [
        "hours = np.arange(24)\n",
        "number_of_validation = np.arange(24)\n",
        "for item in range(0, 24):\n",
        "  df = ds.loc[ds.hour == hours[item]]\n",
        "  number_of_validation[item] = df.shape[0]"
      ],
      "metadata": {
        "id": "YjKcHCHUiQw-"
      },
      "execution_count": 50,
      "outputs": []
    },
    {
      "cell_type": "code",
      "source": [
        "plt.figure(figsize=(8,5))\n",
        "plt.plot(hours, number_of_validation)\n",
        "plt.xlabel('Time')\n",
        "plt.ylabel('Number of people')"
      ],
      "metadata": {
        "colab": {
          "base_uri": "https://localhost:8080/",
          "height": 351
        },
        "id": "ZZexC3gTauhI",
        "outputId": "1ead20c0-270a-460b-9239-e89cf9a5fe4d"
      },
      "execution_count": 51,
      "outputs": [
        {
          "output_type": "execute_result",
          "data": {
            "text/plain": [
              "Text(0, 0.5, 'Number of people')"
            ]
          },
          "metadata": {},
          "execution_count": 51
        },
        {
          "output_type": "display_data",
          "data": {
            "text/plain": [
              "<Figure size 576x360 with 1 Axes>"
            ],
            "image/png": "[encoded data removed]"
          },
          "metadata": {
            "needs_background": "light"
          }
        }
      ]
    },
    {
      "cell_type": "code",
      "source": [
        "weekdays = np.arange(7)\n",
        "number_of_validation = np.arange(7)\n",
        "for item in range(7):\n",
        "  df = ds.loc[ds.dayofweek == weekdays[item]]\n",
        "  number_of_validation[item] = df.shape[0]\n",
        "\n",
        "number_of_validation"
      ],
      "metadata": {
        "colab": {
          "base_uri": "https://localhost:8080/"
        },
        "id": "jeTCdFKvlTJL",
        "outputId": "83a7722a-530a-4072-e283-3d32eed2da73"
      },
      "execution_count": 52,
      "outputs": [
        {
          "output_type": "execute_result",
          "data": {
            "text/plain": [
              "array([169081, 168942, 168451, 166489, 160737, 136643, 119823])"
            ]
          },
          "metadata": {},
          "execution_count": 52
        }
      ]
    },
    {
      "cell_type": "code",
      "source": [
        "plt.figure(figsize=(8,5))\n",
        "plt.plot(weekdays, number_of_validation)\n",
        "plt.xlabel('Day of week')\n",
        "plt.ylabel('Number of people')"
      ],
      "metadata": {
        "colab": {
          "base_uri": "https://localhost:8080/",
          "height": 351
        },
        "id": "abxGAmXNlOwt",
        "outputId": "7346b247-4ec2-40a0-ce1c-7fadf082a0d6"
      },
      "execution_count": 53,
      "outputs": [
        {
          "output_type": "execute_result",
          "data": {
            "text/plain": [
              "Text(0, 0.5, 'Number of people')"
            ]
          },
          "metadata": {},
          "execution_count": 53
        },
        {
          "output_type": "display_data",
          "data": {
            "text/plain": [
              "<Figure size 576x360 with 1 Axes>"
            ],
            "image/png": "[encoded data removed]"
          },
          "metadata": {
            "needs_background": "light"
          }
        }
      ]
    },
    {
      "cell_type": "markdown",
      "source": [
        "**Преобразование категориальных переменных**\n",
        "\n",
        "Хотим сделать датафрейм из 0 и 1, где 0 - True и 1 - False)))\n",
        "\n",
        "Создадим новый датафрейм, содержащий только категориальные переменные"
      ],
      "metadata": {
        "id": "HPgGhagvbrc9"
      }
    },
    {
      "cell_type": "code",
      "source": [
        "data = pd.DataFrame()\n",
        "data = ds[['ticket_type_nm', 'station_nm', 'line_nm']]"
      ],
      "metadata": {
        "id": "SCp0EROrwgMx"
      },
      "execution_count": 54,
      "outputs": []
    },
    {
      "cell_type": "markdown",
      "source": [
        "Используем метод OneHotEncoder, чтобы преобразовать старый датафрейм в датафрейм из 0 и 1"
      ],
      "metadata": {
        "id": "BjS3c4utcHuK"
      }
    },
    {
      "cell_type": "code",
      "source": [
        "from sklearn.preprocessing import OneHotEncoder\n",
        "\n",
        "ohe = OneHotEncoder(sparse=False)\n",
        "ohe.fit(data[['ticket_type_nm', 'station_nm', 'line_nm']])\n",
        "ohe_model = ohe.transform(data[['ticket_type_nm', 'station_nm', 'line_nm']])"
      ],
      "metadata": {
        "id": "3JedyQTcyGGY"
      },
      "execution_count": 55,
      "outputs": []
    },
    {
      "cell_type": "markdown",
      "source": [
        "Добавляем преобразованные категориальные данные в исходный датафрейм"
      ],
      "metadata": {
        "id": "lUxGdlBbcUSK"
      }
    },
    {
      "cell_type": "code",
      "source": [
        "ds[ohe.get_feature_names()] = ohe_model"
      ],
      "metadata": {
        "colab": {
          "base_uri": "https://localhost:8080/"
        },
        "id": "GUxm44B8yn_U",
        "outputId": "122ad7a5-8c22-4864-c2df-23e84fa57415"
      },
      "execution_count": 56,
      "outputs": [
        {
          "output_type": "stream",
          "name": "stderr",
          "text": [
            "/usr/local/lib/python3.8/dist-packages/sklearn/utils/deprecation.py:87: FutureWarning: Function get_feature_names is deprecated; get_feature_names is deprecated in 1.0 and will be removed in 1.2. Please use get_feature_names_out instead.\n",
            "  warnings.warn(msg, category=FutureWarning)\n",
            "/usr/local/lib/python3.8/dist-packages/pandas/core/frame.py:3678: PerformanceWarning: DataFrame is highly fragmented.  This is usually the result of calling `frame.insert` many times, which has poor performance.  Consider joining all columns at once using pd.concat(axis=1) instead.  To get a de-fragmented frame, use `newframe = frame.copy()`\n",
            "  self[col] = igetitem(value, i)\n"
          ]
        }
      ]
    },
    {
      "cell_type": "markdown",
      "source": [
        "Чистим память (потому что не хватает)\n",
        "Удаляем столбцы, дублирующие информацию"
      ],
      "metadata": {
        "id": "Eqpsny97ccYh"
      }
    },
    {
      "cell_type": "code",
      "source": [
        "del data\n",
        "del ohe\n",
        "del ohe_model\n",
        "del df\n",
        "del hours\n",
        "del weekdays\n",
        "del number_of_validation\n",
        "ds = ds.drop(['ticket_type_nm', 'station_nm', 'line_nm'], axis = 1)"
      ],
      "metadata": {
        "id": "mJPaRYA_OPV_"
      },
      "execution_count": 57,
      "outputs": []
    },
    {
      "cell_type": "markdown",
      "source": [
        "Делим на обучающую и тестовыую выборки для задачи регрессии, предварительно уменьшив размер датасета практически вдвое (потому что не учит. Мб проблема переобучения)"
      ],
      "metadata": {
        "id": "MV1Oan-gcmIZ"
      }
    },
    {
      "cell_type": "code",
      "source": [
        "from sklearn.model_selection import train_test_split\n",
        "ds = ds.loc[ds.index < 500000]\n",
        "x = ds.drop(columns = ['time_to_under', 'label'])\n",
        "X_train, X_test, y_train, y_test = train_test_split(x, ds['time_to_under'], test_size=0.33, random_state=42)"
      ],
      "metadata": {
        "id": "hjW-S8L0ClCB"
      },
      "execution_count": 58,
      "outputs": []
    },
    {
      "cell_type": "markdown",
      "source": [
        "Делаем предсказания для времени между 2 валидациями\n",
        "В качестве модели используется модель Линейной регрессии"
      ],
      "metadata": {
        "id": "uJf-NAzscz9Q"
      }
    },
    {
      "cell_type": "code",
      "source": [
        "from sklearn.linear_model import LinearRegression\n",
        "reg = LinearRegression().fit(X_train, y_train)\n",
        "y_pred = reg.predict(X_test)"
      ],
      "metadata": {
        "id": "XMvb5f-Ez1eZ"
      },
      "execution_count": 59,
      "outputs": []
    },
    {
      "cell_type": "markdown",
      "source": [
        "Займемся задачей классификации\n",
        "\n",
        "Делаем тоже самое, что и для регрессии"
      ],
      "metadata": {
        "id": "tKKH1329c6-z"
      }
    },
    {
      "cell_type": "code",
      "source": [
        "X_train_class, X_test_class, y_train_class, y_test_class = train_test_split(x, ds['label'], test_size=0.33, random_state=42)"
      ],
      "metadata": {
        "id": "YC0WoZS5z6Wx"
      },
      "execution_count": 60,
      "outputs": []
    },
    {
      "cell_type": "markdown",
      "source": [
        "Делаем предсказания для станций (задача классификации)\n",
        "\n",
        "Используем в качестве модели Гауссиан (потому что он один из немногих, кто смог достойно посчитать)"
      ],
      "metadata": {
        "id": "ti0DTXdgdQ3Q"
      }
    },
    {
      "cell_type": "code",
      "source": [
        "from sklearn.naive_bayes import GaussianNB\n",
        "\n",
        "clf = GaussianNB()\n",
        "clf.fit(X_train_class, y_train_class)"
      ],
      "metadata": {
        "colab": {
          "base_uri": "https://localhost:8080/"
        },
        "id": "obiypfbjGish",
        "outputId": "83d2b4c9-351f-40d5-88a5-689b6af36c00"
      },
      "execution_count": 61,
      "outputs": [
        {
          "output_type": "execute_result",
          "data": {
            "text/plain": [
              "GaussianNB()"
            ]
          },
          "metadata": {},
          "execution_count": 61
        }
      ]
    },
    {
      "cell_type": "markdown",
      "source": [
        "Делаем предсказания по классам"
      ],
      "metadata": {
        "id": "u5pExHEtdsIF"
      }
    },
    {
      "cell_type": "code",
      "source": [
        "y_pred_class = clf.predict(X_test_class)"
      ],
      "metadata": {
        "id": "8mEHzgUv3yf9"
      },
      "execution_count": 62,
      "outputs": []
    },
    {
      "cell_type": "markdown",
      "source": [
        "Импортируем метрици для оценки модели"
      ],
      "metadata": {
        "id": "bymPivp4dt7d"
      }
    },
    {
      "cell_type": "code",
      "source": [
        "from sklearn.metrics import r2_score\n",
        "from sklearn.metrics import recall_score"
      ],
      "metadata": {
        "id": "-QO_61ys7rdK"
      },
      "execution_count": 63,
      "outputs": []
    },
    {
      "cell_type": "markdown",
      "source": [
        "Считаем"
      ],
      "metadata": {
        "id": "kIEYDGuqdxsk"
      }
    },
    {
      "cell_type": "code",
      "source": [
        "0.5 * (r2_score(y_test, y_pred) + recall_score(y_test_class, y_pred_class, average='macro'))"
      ],
      "metadata": {
        "colab": {
          "base_uri": "https://localhost:8080/"
        },
        "id": "rwd4Qhs3887u",
        "outputId": "e576ab73-a8e4-448d-e3f5-513622da4606"
      },
      "execution_count": 64,
      "outputs": [
        {
          "output_type": "execute_result",
          "data": {
            "text/plain": [
              "0.25502315124560865"
            ]
          },
          "metadata": {},
          "execution_count": 64
        }
      ]
    }
  ]
}